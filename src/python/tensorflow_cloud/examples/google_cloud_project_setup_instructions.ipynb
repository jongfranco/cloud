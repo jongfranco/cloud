{
  "cells": [
    {
      "cell_type": "markdown",
      "metadata": {
        "id": "3ehIjNHm-E-7"
      },
      "source": [
        "# Overview\n",
        "This guide is to help first time users set up a Google Cloud Platform account specifically with the intention to use [tensorflow_cloud](https://github.com/tensorflow/cloud) to easily run training at scale on Google Cloud AI Platform. [tensorflow_cloud](https://github.com/tensorflow/cloud) provides APIs that allow users to easily go from debugging, training, tuning Keras and TensorFlow code in a local or kaggle environment to distributed training/tuning on Cloud.\n",
        "\n",
        "\u003ctable align=\"left\"\u003e\n",
        "    \u003ctd\u003e\n",
        "        \u003ca href=\"https://colab.research.google.com/github/tensorflow/cloud/blob/master/src/python/tensorflow_cloud/examples/google_cloud_project_setup_instructions.ipynb\"\u003e\n",
        "            \u003cimg width=\"50\" src=\"https://cloud.google.com/ml-engine/images/colab-logo-32px.png\" alt=\"Colab logo\"\u003eRun in Colab\n",
        "        \u003c/a\u003e\n",
        "    \u003c/td\u003e\n",
        "    \u003ctd\u003e\n",
        "        \u003ca href=\"https://github.com/tensorflow/cloud/blob/master/src/python/tensorflow_cloud/examples/google_cloud_project_setup_instructions.ipynb\"\u003e\n",
        "            \u003cimg src=\"https://cloud.google.com/ml-engine/images/github-logo-32px.png\" alt=\"GitHub logo\"\u003eView on GitHub\n",
        "        \u003c/a\u003e\n",
        "     \u003c/td\u003e\n",
        "    \u003ctd\u003e\n",
        "        \u003ca href=\"https://www.kaggle.com/nitric/google-cloud-project-setup-instructions\"\u003e\n",
        "            \u003cimg width=\"90\" src=\"https://www.kaggle.com/static/images/site-logo.png\" alt=\"Kaggle logo\"\u003eRun in Kaggle\n",
        "        \u003c/a\u003e\n",
        "     \u003c/td\u003e\n",
        "\u003c/table\u003e\n"
      ]
    },
    {
      "cell_type": "markdown",
      "metadata": {
        "id": "j71W0AgV-E_B"
      },
      "source": [
        "## 1. Sign up for Google Cloud Platform\n",
        "\n",
        "To start go to https://cloud.google.com/ and click on “Get Started For Free\". This is a two step sign up process where you will need to provide your name, address and a credit card. The starter account is free and it comes with $300 credit that you can use. For this step you will need to provide a Google Account ( i.e. your Gmail account) to sign in.\n",
        "\n",
        "After completing the sign up process you will be redirected to [Google Cloud Platform welcome page](https://console.cloud.google.com/home/dashboard). click on the \"Home\" tab and make a note of your Project ID."
      ]
    },
    {
      "cell_type": "markdown",
      "metadata": {
        "id": "qUySXAGQ-E_C"
      },
      "source": [
        "## 2.Enable Google Cloud SDK and Authenticate your notebook\n",
        "Now that you have set up your project we can continue with the rest of the configuration steps directly from this notebook. There Three types of notebook, this step (step #2) is slightly different for each notebook, the rest of the steps (step #3 to #6) are the same for all notebooks.\n",
        "\n",
        "* 2.1. Auth for Kaggle notebooks\n",
        "* 2.2. Auth for Colab notebook\n",
        "* 2.3. Auth for Cloud AI Notebooks - No action needed move to step 3."
      ]
    },
    {
      "cell_type": "markdown",
      "metadata": {
        "id": "nWfddtzJ-E_C"
      },
      "source": [
        "### 2.1 Setup Auth for a Kaggle Notebook\n",
        "\n",
        "If you are using a Kaggle notebook you will need to repeat this step for any new notebook that you use with this project. In your notebook click on Add-ons -\u003e Google Cloud SDK and follow the instructions on the prompt. Then run the following command to add your auth credentials to this notebook."
      ]
    },
    {
      "cell_type": "code",
      "execution_count": null,
      "metadata": {
        "id": "wv-TIuo_-E_D",
        "trusted": true
      },
      "outputs": [],
      "source": [
        "GCP_PROJECT_ID = 'YOUR_PROJECT_ID'\n",
        "\n",
        "import sys\n",
        "if \"kaggle_secrets\" in sys.modules:\n",
        "    from kaggle_secrets import UserSecretsClient\n",
        "    UserSecretsClient().set_gcloud_credentials(project=GCP_PROJECT_ID)"
      ]
    },
    {
      "cell_type": "markdown",
      "metadata": {
        "id": "k56ZcFMd-E_D"
      },
      "source": [
        "### 2.2 Setup Auth for a Colab Notebook\n",
        "If you are using a Colab notebook you will need to repeat this step for any new notebook that you use with this project. Run the following command to add your auth credentials to this notebook."
      ]
    },
    {
      "cell_type": "code",
      "execution_count": null,
      "metadata": {
        "id": "09l5I-Pw-E_E",
        "trusted": true
      },
      "outputs": [],
      "source": [
        "import sys\n",
        "if \"google.colab\" in sys.modules:\n",
        "    from google.colab import auth\n",
        "    auth.authenticate_user()"
      ]
    },
    {
      "cell_type": "markdown",
      "metadata": {
        "id": "ft44j-aA-E_E"
      },
      "source": [
        "## 3. Link your billing account to your project\n",
        "Next step is to [set up  the billing account](https://cloud.google.com/billing/docs/how-to/modify-project) for this project. Google Cloud Creates a project for you by default which is called “My First Project”. We will use this default project. Use your Project ID (from step 1) to run the following commands. This will show you your Billing Account_ID, make a note of this for the next step."
      ]
    },
    {
      "cell_type": "code",
      "execution_count": null,
      "metadata": {
        "executionInfo": {
          "elapsed": 320,
          "status": "ok",
          "timestamp": 1612139931246,
          "user": {
            "displayName": "",
            "photoUrl": "",
            "userId": ""
          },
          "user_tz": 480
        },
        "id": "T8FCFUaQ-E_E",
        "outputId": "66697de7-b2c0-4257-cd6f-33126aadbe0b",
        "trusted": true
      },
      "outputs": [
        {
          "name": "stdout",
          "output_type": "stream",
          "text": [
            "/bin/sh: line 1: gcloud: command not found\n"
          ]
        }
      ],
      "source": [
        "!gcloud iam service-accounts create YOUR_SERVICE_ACCOUNT_NAME\n"
      ]
    },
    {
      "cell_type": "markdown",
      "metadata": {
        "id": "DMqNVFx6-E_F"
      },
      "source": [
        "Use your Billing Account_ID from above and run the following to link your billing account with your project."
      ]
    },
    {
      "cell_type": "code",
      "execution_count": null,
      "metadata": {
        "id": "7xQsgsci-E_F",
        "trusted": true
      },
      "outputs": [],
      "source": [
        "!gcloud beta billing projects link 'YOUR_PROJECT_ID' --billing-account 'YOUR_BILLING_ACCOUNT_ID'"
      ]
    },
    {
      "cell_type": "markdown",
      "metadata": {
        "id": "2wHYb7iA-E_F"
      },
      "source": [
        "## 4. Enable Required APIs for tensorflow-cloud in your project\n",
        "For tensorflow_cloud we use two specific APIs: [AI Platform Training Jobs API](https://console.cloud.google.com/marketplace/product/google/ml.googleapis.com) and [Cloud builder API]( https://console.developers.google.com/apis/api/cloudbuild.googleapis.com/overview). Note that this is a one time setup for this project, you do not need to rerun this command for every notebook.\n"
      ]
    },
    {
      "cell_type": "code",
      "execution_count": null,
      "metadata": {
        "id": "X6GFmIJK-E_G",
        "trusted": true
      },
      "outputs": [],
      "source": [
        "!gcloud services enable ml.googleapis.com cloudbuild.googleapis.com"
      ]
    },
    {
      "cell_type": "markdown",
      "metadata": {
        "id": "k3HqQlmn-E_G"
      },
      "source": [
        "## 5. Create a Google Cloud Storage bucket\n",
        "\n",
        "We will use this storage bucket for temporary assets as well as to save the model checkpoints. Make a note of the name of the bucket for future reference. Note bucket names are unique globally."
      ]
    },
    {
      "cell_type": "code",
      "execution_count": null,
      "metadata": {
        "id": "cQ4kxTtP-E_G",
        "trusted": true
      },
      "outputs": [],
      "source": [
        "!gsutil mb gs://YOUR_BUCKET_NAME"
      ]
    },
    {
      "cell_type": "markdown",
      "metadata": {
        "id": "_jZG5cCJ-E_G"
      },
      "source": [
        "## Create a service account for HP Tuning jobs\n",
        "This step is required to use HP Tuning on Google Cloud using CloudTuner.\n",
        "To [create a service account](https://cloud.google.com/iam/docs/creating-managing-service-accounts#iam-service-accounts-create-gcloud) run the following command to create a service account and make a note of it."
      ]
    },
    {
      "cell_type": "code",
      "execution_count": null,
      "metadata": {
        "id": "FBX2IT3x-E_G",
        "trusted": true
      },
      "outputs": [],
      "source": [
        "!gcloud iam service-accounts create YOUR_SERVICE_ACCOUNT_NAME"
      ]
    },
    {
      "cell_type": "markdown",
      "metadata": {
        "id": "LdUZHaER-E_H"
      },
      "source": [
        "Give permission to your service account to access Google Cloud Services by running the following command"
      ]
    },
    {
      "cell_type": "code",
      "execution_count": null,
      "metadata": {
        "id": "kWZvvlnb-E_H",
        "trusted": true
      },
      "outputs": [],
      "source": [
        "!gcloud projects add-iam-policy-binding YOUR_PROJECT_ID \\\n",
        "    --member serviceAccount:YOUR_SERVICE_ACCOUNT_NAME@YOUR_PROJECT_ID.iam.gserviceaccount.com \\\n",
        "    --role 'roles/editor'"
      ]
    },
    {
      "cell_type": "code",
      "execution_count": null,
      "metadata": {
        "id": "g9fJh8RX-E_H",
        "trusted": true
      },
      "outputs": [],
      "source": [
        "Finally run the following to allow your users account to impersonate the service account,"
      ]
    },
    {
      "cell_type": "code",
      "execution_count": null,
      "metadata": {
        "id": "UeTwSx75-E_H",
        "trusted": true
      },
      "outputs": [],
      "source": [
        "!gcloud iam service-accounts add-iam-policy-binding \\\n",
        "    YOUR_SERVICE_ACCOUNT_NAME@YOUR_PROJECT_ID.iam.gserviceaccount.com \\\n",
        "    --member=\"user:YOUR_EMAIL_ADDRESS\" \\\n",
        "    --role=\"roles/iam.serviceAccountUser\""
      ]
    },
    {
      "cell_type": "markdown",
      "metadata": {
        "id": "fqbjpPt_-E_H"
      },
      "source": [
        "## Congratulations !\n",
        "You are now ready to run tensorflow-cloud. Note that these steps only need to be run one time. Once you have your project setup you can reuse the same project and bucket configuration for future runs. For any new notebooks you will need to repeat the step two to add your Google Cloud auth credentials. "
      ]
    }
  ],
  "metadata": {
    "colab": {
      "name": "google-cloud-project-setup-instructions.ipynb",
      "provenance": [
        {
          "file_id": "/piper/depot/google3/third_party/tensorflow_cloud/src/python/tensorflow_cloud/examples/google_cloud_project_setup_instructions.ipynb?workspaceId=chavoshi:Sample_notebooks::citc",
          "timestamp": 1612304443485
        },
        {
          "file_id": "121DSWOVYGOPRZOVkHQqU_QFLAzkAx5by",
          "timestamp": 1612139715024
        }
      ]
    },
    "kernelspec": {
      "display_name": "Python 3",
      "language": "python",
      "name": "python3"
    },
    "language_info": {
      "codemirror_mode": {
        "name": "ipython",
        "version": 3
      },
      "file_extension": ".py",
      "mimetype": "text/x-python",
      "name": "python",
      "nbconvert_exporter": "python",
      "pygments_lexer": "ipython3",
      "version": "3.6.4"
    }
  },
  "nbformat": 4,
  "nbformat_minor": 0
}
